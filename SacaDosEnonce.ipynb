{
 "cells": [
  {
   "cell_type": "markdown",
   "metadata": {},
   "source": [
    "# Problème du sac à dos"
   ]
  },
  {
   "cell_type": "markdown",
   "metadata": {},
   "source": [
    "## 1. Introduction"
   ]
  },
  {
   "cell_type": "markdown",
   "metadata": {},
   "source": [
    "### Déclaration des variables et création d'une liste d'objets aléatoires\n",
    "Le code suivant propose une création aléatoire d'une liste de $n$ objets permettant de tester les codes qui suivent."
   ]
  },
  {
   "cell_type": "code",
   "execution_count": 1,
   "metadata": {},
   "outputs": [
    {
     "name": "stdout",
     "output_type": "stream",
     "text": [
      "[(6, 9), (9, 4), (7, 3), (4, 1), (7, 1), (10, 1), (8, 6), (6, 9), (10, 6), (3, 7), (2, 10), (2, 9), (4, 4), (7, 1), (2, 1), (10, 2), (4, 6), (8, 10), (6, 4), (2, 7)]\n"
     ]
    }
   ],
   "source": [
    "import random as rd\n",
    "\n",
    "w = 30 # Poids maximum contenant dans le sac\n",
    "n = 20 # nombre d'objets disponibles\n",
    "vmax = 10 # valeur maximale d'un objet\n",
    "pmax = 10 # poids maximal d'un objet\n",
    "\n",
    "objets = [(rd.randrange(vmax)+1, rd.randrange(pmax)+1) for i in range(n)]\n",
    "print(objets)"
   ]
  },
  {
   "cell_type": "markdown",
   "metadata": {},
   "source": [
    "## 2. Algorithme de force brute\n",
    "On teste toutes les combinaisons possibles.\n",
    "Nous avons choisi d'identifier une combinaison de $n$ objets par un nombre en binaire à $n$ chiffres, chaque chiffre indiquant si l'objet correspondant est sélectionné dans la combinaison ou pas."
   ]
  },
  {
   "cell_type": "code",
   "execution_count": 2,
   "metadata": {},
   "outputs": [],
   "source": [
    "def forceBrute(objets,w):\n",
    "    \"\"\"\n",
    "    Résolution du problème du sac à dos par force brute\n",
    "    objets est une liste d'objets du type (poids,valeur)\n",
    "    w est le poids maximum entrant dans le sac\n",
    "    Un nombre en binaire permet d'indiquer quels objets sont sélectionnés.\n",
    "    \"\"\"\n",
    "    n = len(objets)\n",
    "    valeurmax = 0\n",
    "    combinaisonmax = 0\n",
    "    for combinaison in range(2**n):\n",
    "        poids = 0\n",
    "        valeur = 0\n",
    "        combiBinaire = bin(combinaison)[2:]\n",
    "        combiBinaire = (n-len(combiBinaire))*'0'+combiBinaire # avec n chiffres\n",
    "        for j in range(n):\n",
    "            if combiBinaire[j]=='1':\n",
    "                poids += objets[j][1]\n",
    "                if poids > w:\n",
    "                    break\n",
    "                valeur += objets[j][0]\n",
    "        else:\n",
    "            if valeur > valeurmax:\n",
    "                valeurmax = valeur\n",
    "                combinaisonmax = combiBinaire\n",
    "    contenuSac = []\n",
    "    for j in range(n):\n",
    "        if combinaisonmax[j]=='1':\n",
    "            contenuSac.append(objets[j])\n",
    "    return valeurmax, contenuSac"
   ]
  },
  {
   "cell_type": "code",
   "execution_count": 3,
   "metadata": {},
   "outputs": [
    {
     "name": "stdout",
     "output_type": "stream",
     "text": [
      "(80, [(9, 4), (7, 3), (4, 1), (7, 1), (10, 1), (8, 6), (10, 6), (7, 1), (2, 1), (10, 2), (6, 4)])\n"
     ]
    }
   ],
   "source": [
    "print(forceBrute(objets,w))"
   ]
  },
  {
   "cell_type": "markdown",
   "metadata": {},
   "source": [
    "__Q1. Quelle est, en fonction de $n$, la complexité de l'algorithme précédent ?__"
   ]
  },
  {
   "cell_type": "markdown",
   "metadata": {},
   "source": [
    "__Q2. Estimer le temps de calcul de l'algorithme de force brute si on dispose de 50 objets ? 100 objets ?__"
   ]
  },
  {
   "cell_type": "markdown",
   "metadata": {},
   "source": [
    "## 3. Exemples d'algorithmes gloutons"
   ]
  },
  {
   "cell_type": "markdown",
   "metadata": {},
   "source": [
    "### Exemple 1\n",
    "\n",
    "On remplit le sac à dos en mettant d'abord les objets de plus grande valeur, jusqu'à ce que plus aucun objet ne rentre dans le sac.\n",
    "\n",
    "\n",
    "__Q3. Programmer cet algorithme.__ \n",
    "Écrire d'abord une fonction tri utilisant le tri par insertion."
   ]
  },
  {
   "cell_type": "code",
   "execution_count": 1,
   "metadata": {},
   "outputs": [],
   "source": [
    "def tri(lst):\n",
    "    \"fonction à écrire\""
   ]
  },
  {
   "cell_type": "code",
   "execution_count": 2,
   "metadata": {},
   "outputs": [],
   "source": [
    "def glouton1(objets,w):\n",
    "    \"\"\"\n",
    "    Résolution du problème du sac à dos \n",
    "    On met en priorité les objets de plus grosse valeur\n",
    "    \"\"\"\n",
    "    contenuSac = []\n",
    "    valeur = 0\n",
    "\n",
    "    return valeur, contenuSac"
   ]
  },
  {
   "cell_type": "markdown",
   "metadata": {},
   "source": [
    "__Q5. Quelle est la complexité de cet algorithme ?__"
   ]
  },
  {
   "cell_type": "markdown",
   "metadata": {},
   "source": [
    "__Q6. Comparer les deux algorithmes (force brute et glouton1).__"
   ]
  },
  {
   "cell_type": "markdown",
   "metadata": {},
   "source": [
    "### Exemple 2\n",
    "\n",
    "On remplit le sac à dos en mettant d'abord les objets avec le meilleur rapport valeur/poids, jusqu'à ce que plus aucun objet ne rentre dans le sac.\n",
    "\n",
    "\n",
    "__Q8. Programmer cet algorithme.__ "
   ]
  },
  {
   "cell_type": "code",
   "execution_count": 8,
   "metadata": {},
   "outputs": [],
   "source": [
    "def glouton2(objets,w):\n",
    "    \"\"\"\n",
    "    Résolution du problème du sac à dos \n",
    "    On met en priorité les objets de meilleur rapport valeur/poids\n",
    "    \"\"\"\n",
    "    contenuSac = []\n",
    "    valeur = 0\n",
    "\n",
    "    return valeur, contenuSac"
   ]
  },
  {
   "cell_type": "markdown",
   "metadata": {},
   "source": [
    "__Q9. Comparer les deux algorithmes gloutons.__"
   ]
  },
  {
   "cell_type": "markdown",
   "metadata": {},
   "source": [
    "__Q10. Ecrire une fonction $glouton3$ renvoyant le meilleur résultat des deux fonctions $glouton1$ et $glouton2$.__"
   ]
  },
  {
   "cell_type": "code",
   "execution_count": null,
   "metadata": {},
   "outputs": [],
   "source": []
  },
  {
   "cell_type": "markdown",
   "metadata": {},
   "source": [
    "__Q11. Quelle est la complexité de l'algorithme $glouton3$ ?__"
   ]
  },
  {
   "cell_type": "markdown",
   "metadata": {},
   "source": [
    "## 4. Tests d'efficacité des algorithmes gloutons"
   ]
  },
  {
   "cell_type": "code",
   "execution_count": 16,
   "metadata": {},
   "outputs": [
    {
     "data": {
      "image/png": "[encoded data removed]",
      "text/plain": [
       "<matplotlib.figure.Figure at 0x7f8a9dfd38d0>"
      ]
     },
     "metadata": {},
     "output_type": "display_data"
    },
    {
     "data": {
      "image/png": "[encoded data removed]",
      "text/plain": [
       "<matplotlib.figure.Figure at 0x7f8a9e2f03c8>"
      ]
     },
     "metadata": {},
     "output_type": "display_data"
    }
   ],
   "source": [
    "import matplotlib.pyplot as plt\n",
    "\n",
    "def comparaison(n, w, vmax=15, pmax=10):\n",
    "    objets = [(rd.randrange(vmax)+1, rd.randrange(pmax)+1) for i in range(n)]\n",
    "    valeurOptimale = dynamique(objets,w)[-1][-1]\n",
    "    valeurGlouton1 = glouton1(objets,w)[0]\n",
    "    valeurGlouton2 = glouton2(objets,w)[0]\n",
    "    return valeurGlouton1/valeurOptimale, valeurGlouton2/valeurOptimale\n",
    "\n",
    "def plusieursComparaisons(nb, n, w, vmax=15, pmax=10):\n",
    "    lstglouton1 = []\n",
    "    lstglouton2 = []\n",
    "    for i in range(nb):\n",
    "        t1, t2 = comparaison(n,w,vmax,pmax)\n",
    "        lstglouton1.append(t1)\n",
    "        lstglouton2.append(t2)\n",
    "    moyGlouton1 = sum(lstglouton1)/len(lstglouton1)\n",
    "    moyGlouton2 = sum(lstglouton2)/len(lstglouton2)\n",
    "    nbOptGlouton1 = sum(x==1.0 for x in lstglouton1)/nb*100\n",
    "    nbOptGlouton2 = sum(x==1.0 for x in lstglouton2)/nb*100\n",
    "    \"\"\"\n",
    "    print(\"Sur\",nb,\"simulations, l'algorithme glouton1 renvoie une valeur moyenne égale à \",moyGlouton1,\"% de la valeur optimale.\")\n",
    "    print(\"Sur\",nb,\"simulations, l'algorithme glouton2 renvoie une valeur moyenne égale à \",moyGlouton2,\"% de la valeur optimale.\")\n",
    "    print(\"Sur\",nb,\"simulations, l'algorithme glouton1 trouve la valeur optimale\",nbOptGlouton1,\"fois.\")\n",
    "    print(\"Sur\",nb,\"simulations, l'algorithme glouton2 trouve la valeur optimale\",nbOptGlouton2,\"fois.\")\n",
    "    \"\"\"\n",
    "    return moyGlouton1, moyGlouton2, nbOptGlouton1, nbOptGlouton2\n",
    "\n",
    "def courbeGloutons(nb, nmax, w=30, vmax=15, pmax=10):\n",
    "    lstmoyGlouton1 = []\n",
    "    lstmoyGlouton2 = []\n",
    "    lstnbOptGlouton1 = []\n",
    "    lstnbOptGlouton2 = []\n",
    "    lstabs = list(range(4,nmax+1,max(1,nmax//100)))\n",
    "    for n in range(4,nmax+1,max(1,nmax//100)):\n",
    "        moyGlouton1, moyGlouton2, nbOptGlouton1, nbOptGlouton2 = plusieursComparaisons(nb, n, w, vmax=15, pmax=10)\n",
    "        lstmoyGlouton1.append(moyGlouton1)\n",
    "        lstmoyGlouton2.append(moyGlouton2)\n",
    "        lstnbOptGlouton1.append(nbOptGlouton1)\n",
    "        lstnbOptGlouton2.append(nbOptGlouton2)\n",
    "    plt.title(\"Pourcentage de succès (l'algorithme trouve la valeur optimale)\")\n",
    "    plt.plot(lstabs,lstnbOptGlouton1)\n",
    "    plt.plot(lstabs,lstnbOptGlouton2)\n",
    "    plt.legend(('Glouton1','Glouton2'))\n",
    "    plt.xlabel(\"Nombre d'objets\")\n",
    "    plt.show()\n",
    "    plt.title(\"Quotient de la valeur renvoyée par l'algorithme glouton sur la valeur optimale\")\n",
    "    plt.plot(lstabs,lstmoyGlouton1)\n",
    "    plt.plot(lstabs,lstmoyGlouton2)\n",
    "    plt.xlabel(\"Nombre d'objets\")\n",
    "    plt.legend(('Glouton1','Glouton2'))\n",
    "    plt.show()\n",
    "   \n",
    "   \n",
    "courbeGloutons(100,100)"
   ]
  },
  {
   "cell_type": "code",
   "execution_count": null,
   "metadata": {},
   "outputs": [],
   "source": []
  }
 ],
 "metadata": {
  "kernelspec": {
   "display_name": "Python 3",
   "language": "python",
   "name": "python3"
  },
  "language_info": {
   "codemirror_mode": {
    "name": "ipython",
    "version": 3
   },
   "file_extension": ".py",
   "mimetype": "text/x-python",
   "name": "python",
   "nbconvert_exporter": "python",
   "pygments_lexer": "ipython3",
   "version": "3.6.2"
  }
 },
 "nbformat": 4,
 "nbformat_minor": 2
}
